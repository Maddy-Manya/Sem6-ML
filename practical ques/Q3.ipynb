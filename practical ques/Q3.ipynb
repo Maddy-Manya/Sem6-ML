{
 "cells": [
  {
   "cell_type": "code",
   "execution_count": 32,
   "metadata": {},
   "outputs": [],
   "source": [
    "from sklearn.neighbors import KNeighborsClassifier\n",
    "from sklearn.model_selection import train_test_split\n",
    "from sklearn.metrics import accuracy_score, confusion_matrix\n",
    "from sklearn.datasets import load_iris\n",
    "import numpy as np\n",
    "import pandas as pd\n",
    "from matplotlib import pyplot as plt"
   ]
  },
  {
   "cell_type": "code",
   "execution_count": null,
   "metadata": {},
   "outputs": [],
   "source": []
  },
  {
   "cell_type": "code",
   "execution_count": 33,
   "metadata": {},
   "outputs": [
    {
     "data": {
      "text/plain": [
       "Index(['sepal length (cm)', 'sepal width (cm)', 'petal length (cm)',\n",
       "       'petal width (cm)'],\n",
       "      dtype='object')"
      ]
     },
     "execution_count": 33,
     "metadata": {},
     "output_type": "execute_result"
    }
   ],
   "source": [
    "X = load_iris(as_frame=True)[\"data\"]\n",
    "y = load_iris(as_frame=True)[\"target\"]\n",
    "X.columns"
   ]
  },
  {
   "cell_type": "code",
   "execution_count": 34,
   "metadata": {},
   "outputs": [
    {
     "data": {
      "text/html": [
       "<div>\n",
       "<style scoped>\n",
       "    .dataframe tbody tr th:only-of-type {\n",
       "        vertical-align: middle;\n",
       "    }\n",
       "\n",
       "    .dataframe tbody tr th {\n",
       "        vertical-align: top;\n",
       "    }\n",
       "\n",
       "    .dataframe thead th {\n",
       "        text-align: right;\n",
       "    }\n",
       "</style>\n",
       "<table border=\"1\" class=\"dataframe\">\n",
       "  <thead>\n",
       "    <tr style=\"text-align: right;\">\n",
       "      <th></th>\n",
       "      <th>sepal length (cm)</th>\n",
       "      <th>sepal width (cm)</th>\n",
       "      <th>petal length (cm)</th>\n",
       "      <th>petal width (cm)</th>\n",
       "    </tr>\n",
       "  </thead>\n",
       "  <tbody>\n",
       "    <tr>\n",
       "      <th>0</th>\n",
       "      <td>-0.897674</td>\n",
       "      <td>1.015602</td>\n",
       "      <td>-1.335752</td>\n",
       "      <td>-1.311052</td>\n",
       "    </tr>\n",
       "    <tr>\n",
       "      <th>1</th>\n",
       "      <td>-1.139200</td>\n",
       "      <td>-0.131539</td>\n",
       "      <td>-1.335752</td>\n",
       "      <td>-1.311052</td>\n",
       "    </tr>\n",
       "    <tr>\n",
       "      <th>2</th>\n",
       "      <td>-1.380727</td>\n",
       "      <td>0.327318</td>\n",
       "      <td>-1.392399</td>\n",
       "      <td>-1.311052</td>\n",
       "    </tr>\n",
       "    <tr>\n",
       "      <th>3</th>\n",
       "      <td>-1.501490</td>\n",
       "      <td>0.097889</td>\n",
       "      <td>-1.279104</td>\n",
       "      <td>-1.311052</td>\n",
       "    </tr>\n",
       "    <tr>\n",
       "      <th>4</th>\n",
       "      <td>-1.018437</td>\n",
       "      <td>1.245030</td>\n",
       "      <td>-1.335752</td>\n",
       "      <td>-1.311052</td>\n",
       "    </tr>\n",
       "    <tr>\n",
       "      <th>...</th>\n",
       "      <td>...</td>\n",
       "      <td>...</td>\n",
       "      <td>...</td>\n",
       "      <td>...</td>\n",
       "    </tr>\n",
       "    <tr>\n",
       "      <th>145</th>\n",
       "      <td>1.034539</td>\n",
       "      <td>-0.131539</td>\n",
       "      <td>0.816859</td>\n",
       "      <td>1.443994</td>\n",
       "    </tr>\n",
       "    <tr>\n",
       "      <th>146</th>\n",
       "      <td>0.551486</td>\n",
       "      <td>-1.278680</td>\n",
       "      <td>0.703564</td>\n",
       "      <td>0.919223</td>\n",
       "    </tr>\n",
       "    <tr>\n",
       "      <th>147</th>\n",
       "      <td>0.793012</td>\n",
       "      <td>-0.131539</td>\n",
       "      <td>0.816859</td>\n",
       "      <td>1.050416</td>\n",
       "    </tr>\n",
       "    <tr>\n",
       "      <th>148</th>\n",
       "      <td>0.430722</td>\n",
       "      <td>0.786174</td>\n",
       "      <td>0.930154</td>\n",
       "      <td>1.443994</td>\n",
       "    </tr>\n",
       "    <tr>\n",
       "      <th>149</th>\n",
       "      <td>0.068433</td>\n",
       "      <td>-0.131539</td>\n",
       "      <td>0.760211</td>\n",
       "      <td>0.788031</td>\n",
       "    </tr>\n",
       "  </tbody>\n",
       "</table>\n",
       "<p>150 rows × 4 columns</p>\n",
       "</div>"
      ],
      "text/plain": [
       "     sepal length (cm)  sepal width (cm)  petal length (cm)  petal width (cm)\n",
       "0            -0.897674          1.015602          -1.335752         -1.311052\n",
       "1            -1.139200         -0.131539          -1.335752         -1.311052\n",
       "2            -1.380727          0.327318          -1.392399         -1.311052\n",
       "3            -1.501490          0.097889          -1.279104         -1.311052\n",
       "4            -1.018437          1.245030          -1.335752         -1.311052\n",
       "..                 ...               ...                ...               ...\n",
       "145           1.034539         -0.131539           0.816859          1.443994\n",
       "146           0.551486         -1.278680           0.703564          0.919223\n",
       "147           0.793012         -0.131539           0.816859          1.050416\n",
       "148           0.430722          0.786174           0.930154          1.443994\n",
       "149           0.068433         -0.131539           0.760211          0.788031\n",
       "\n",
       "[150 rows x 4 columns]"
      ]
     },
     "execution_count": 34,
     "metadata": {},
     "output_type": "execute_result"
    }
   ],
   "source": [
    "def normalise(feature, df):\n",
    "    mean = df[feature].mean()\n",
    "    sd = df[feature].std()\n",
    "    df[feature] = (df[feature] - mean) / sd\n",
    "\n",
    "normalise(\"sepal length (cm)\", X)\n",
    "normalise(\"sepal width (cm)\", X)\n",
    "normalise(\"petal length (cm)\", X)\n",
    "normalise(\"petal width (cm)\", X)\n",
    "X\n"
   ]
  },
  {
   "cell_type": "code",
   "execution_count": 35,
   "metadata": {},
   "outputs": [],
   "source": [
    "X_train, X_temp, y_train, y_temp = train_test_split(X , y,random_state=100, test_size= 2/9)\n",
    "\n",
    "X_validate, X_test, y_validate, y_test = train_test_split(X_temp , y_temp,random_state=100, test_size= .5)\n"
   ]
  },
  {
   "cell_type": "code",
   "execution_count": null,
   "metadata": {},
   "outputs": [],
   "source": []
  },
  {
   "cell_type": "code",
   "execution_count": 36,
   "metadata": {},
   "outputs": [],
   "source": [
    "def report_show(x,y, k):\n",
    "    knn = KNeighborsClassifier(n_neighbors=k, weights=\"distance\")\n",
    "    knn.fit(X_train, y_train)\n",
    "    preds = knn.predict(x)\n",
    "    print(f\"Accuracy  : {accuracy_score(y , preds)}\")\n",
    "    print(f\"ConfusionMatrix\\n{confusion_matrix(y , preds)}\")\n"
   ]
  },
  {
   "cell_type": "code",
   "execution_count": 37,
   "metadata": {},
   "outputs": [
    {
     "name": "stdout",
     "output_type": "stream",
     "text": [
      "Validation\n",
      "Accuracy  : 0.9411764705882353\n",
      "ConfusionMatrix\n",
      "[[6 0 0]\n",
      " [0 4 0]\n",
      " [0 1 6]]\n",
      "Testing\n",
      "Accuracy  : 1.0\n",
      "ConfusionMatrix\n",
      "[[6 0 0]\n",
      " [0 4 0]\n",
      " [0 0 7]]\n"
     ]
    }
   ],
   "source": [
    "# k = 4\n",
    "print(\"Validation\")\n",
    "report_show(X_validate, y_validate, 4)\n",
    "print(\"Testing\")\n",
    "report_show(X_test, y_test, 4)"
   ]
  },
  {
   "cell_type": "code",
   "execution_count": 38,
   "metadata": {},
   "outputs": [
    {
     "name": "stdout",
     "output_type": "stream",
     "text": [
      "Validation\n",
      "Accuracy  : 0.9411764705882353\n",
      "ConfusionMatrix\n",
      "[[6 0 0]\n",
      " [0 4 0]\n",
      " [0 1 6]]\n",
      "Testing\n",
      "Accuracy  : 1.0\n",
      "ConfusionMatrix\n",
      "[[6 0 0]\n",
      " [0 4 0]\n",
      " [0 0 7]]\n"
     ]
    }
   ],
   "source": [
    "# k = 5\n",
    "print(\"Validation\")\n",
    "report_show(X_validate, y_validate, 5)\n",
    "print(\"Testing\")\n",
    "report_show(X_test, y_test, 5)"
   ]
  },
  {
   "cell_type": "code",
   "execution_count": 39,
   "metadata": {},
   "outputs": [
    {
     "name": "stdout",
     "output_type": "stream",
     "text": [
      "Validation\n",
      "Accuracy  : 0.9411764705882353\n",
      "ConfusionMatrix\n",
      "[[6 0 0]\n",
      " [0 4 0]\n",
      " [0 1 6]]\n",
      "Testing\n",
      "Accuracy  : 1.0\n",
      "ConfusionMatrix\n",
      "[[6 0 0]\n",
      " [0 4 0]\n",
      " [0 0 7]]\n"
     ]
    }
   ],
   "source": [
    "# k = 8\n",
    "print(\"Validation\")\n",
    "report_show(X_validate, y_validate, 2)\n",
    "print(\"Testing\")\n",
    "report_show(X_test, y_test, 1)"
   ]
  },
  {
   "cell_type": "markdown",
   "metadata": {},
   "source": [
    "### best k = 4"
   ]
  }
 ],
 "metadata": {
  "kernelspec": {
   "display_name": "Python 3",
   "language": "python",
   "name": "python3"
  },
  "language_info": {
   "codemirror_mode": {
    "name": "ipython",
    "version": 3
   },
   "file_extension": ".py",
   "mimetype": "text/x-python",
   "name": "python",
   "nbconvert_exporter": "python",
   "pygments_lexer": "ipython3",
   "version": "3.11.3"
  }
 },
 "nbformat": 4,
 "nbformat_minor": 2
}
