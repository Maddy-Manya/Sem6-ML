{
 "cells": [
  {
   "cell_type": "code",
   "execution_count": 17,
   "metadata": {},
   "outputs": [],
   "source": [
    "import pandas as pd\n",
    "from sklearn.linear_model import LogisticRegression\n",
    "from sklearn.model_selection import train_test_split\n",
    "from sklearn.metrics import confusion_matrix,classification_report\n",
    "from sklearn.datasets import load_iris"
   ]
  },
  {
   "cell_type": "markdown",
   "metadata": {},
   "source": [
    "### Load Data"
   ]
  },
  {
   "cell_type": "code",
   "execution_count": 11,
   "metadata": {},
   "outputs": [],
   "source": [
    "iris = load_iris(as_frame=True)\n",
    "X = iris[\"data\"]\n",
    "y = iris[\"target\"]"
   ]
  },
  {
   "cell_type": "markdown",
   "metadata": {},
   "source": [
    "### Splitting data"
   ]
  },
  {
   "cell_type": "code",
   "execution_count": 14,
   "metadata": {},
   "outputs": [],
   "source": [
    "X_train, X_test, y_train, y_test = train_test_split(X, y, test_size=0.2, random_state=100)"
   ]
  },
  {
   "cell_type": "markdown",
   "metadata": {},
   "source": [
    "### Training model"
   ]
  },
  {
   "cell_type": "code",
   "execution_count": 15,
   "metadata": {},
   "outputs": [
    {
     "data": {
      "text/plain": [
       "array([[1.72598811e-05, 4.90291644e-02, 9.50953576e-01],\n",
       "       [9.69214414e-01, 3.07854618e-02, 1.24183591e-07],\n",
       "       [7.50624085e-09, 1.62768540e-03, 9.98372307e-01],\n",
       "       [9.82927219e-01, 1.70727393e-02, 4.21211089e-08],\n",
       "       [7.15478659e-04, 4.25835699e-01, 5.73448822e-01],\n",
       "       [7.18446986e-07, 1.64090909e-02, 9.83590191e-01],\n",
       "       [9.85298821e-01, 1.47011559e-02, 2.35223546e-08],\n",
       "       [9.64044750e-01, 3.59551647e-02, 8.52166111e-08],\n",
       "       [7.83270592e-05, 1.42220683e-01, 8.57700990e-01],\n",
       "       [9.66368158e-01, 3.36317326e-02, 1.09810718e-07],\n",
       "       [9.82411080e-01, 1.75888853e-02, 3.47154490e-08],\n",
       "       [7.66166173e-05, 7.14842482e-02, 9.28439135e-01],\n",
       "       [9.61534401e-01, 3.84653649e-02, 2.33560855e-07],\n",
       "       [9.71162735e-01, 2.88372120e-02, 5.27061771e-08],\n",
       "       [8.16888878e-05, 1.04016764e-01, 8.95901547e-01],\n",
       "       [9.14086083e-03, 9.27237076e-01, 6.36220634e-02],\n",
       "       [9.83601240e-03, 9.73039428e-01, 1.71245596e-02],\n",
       "       [6.90673755e-04, 4.94946398e-01, 5.04362928e-01],\n",
       "       [6.40120032e-08, 6.50415317e-03, 9.93495783e-01],\n",
       "       [3.21021679e-05, 8.23861355e-02, 9.17581762e-01],\n",
       "       [7.51176227e-06, 6.01994490e-02, 9.39793039e-01],\n",
       "       [9.55549701e-01, 4.44501372e-02, 1.61797376e-07],\n",
       "       [2.99934586e-04, 2.92468479e-01, 7.07231586e-01],\n",
       "       [9.64060645e-01, 3.59391950e-02, 1.60373489e-07],\n",
       "       [2.48009786e-02, 9.55663962e-01, 1.95350595e-02],\n",
       "       [6.05370394e-04, 2.63945058e-01, 7.35449572e-01],\n",
       "       [5.53391900e-03, 9.11003802e-01, 8.34622789e-02],\n",
       "       [9.35689796e-01, 6.43099620e-02, 2.42434932e-07],\n",
       "       [3.45452200e-03, 8.48057454e-01, 1.48488024e-01],\n",
       "       [9.16733722e-06, 3.24799711e-02, 9.67510862e-01]])"
      ]
     },
     "execution_count": 15,
     "metadata": {},
     "output_type": "execute_result"
    }
   ],
   "source": [
    "logReg = LogisticRegression()\n",
    "logReg.fit(X_train, y_train)\n",
    "\n",
    "logReg.predict_proba(X_test)"
   ]
  },
  {
   "cell_type": "markdown",
   "metadata": {},
   "source": [
    "### Predictions and metrics"
   ]
  },
  {
   "cell_type": "code",
   "execution_count": 22,
   "metadata": {},
   "outputs": [
    {
     "name": "stdout",
     "output_type": "stream",
     "text": [
      "Confusion Matrix\n"
     ]
    },
    {
     "data": {
      "text/plain": [
       "array([[11,  0,  0],\n",
       "       [ 0,  5,  1],\n",
       "       [ 0,  0, 13]], dtype=int64)"
      ]
     },
     "execution_count": 22,
     "metadata": {},
     "output_type": "execute_result"
    }
   ],
   "source": [
    "preds = logReg.predict(X_test)\n",
    "\n",
    "print(\"Confusion Matrix\")\n",
    "confusion_matrix(y_test, preds)"
   ]
  },
  {
   "cell_type": "code",
   "execution_count": 19,
   "metadata": {},
   "outputs": [
    {
     "name": "stdout",
     "output_type": "stream",
     "text": [
      "              precision    recall  f1-score   support\n",
      "\n",
      "           0       1.00      1.00      1.00        11\n",
      "           1       1.00      0.83      0.91         6\n",
      "           2       0.93      1.00      0.96        13\n",
      "\n",
      "    accuracy                           0.97        30\n",
      "   macro avg       0.98      0.94      0.96        30\n",
      "weighted avg       0.97      0.97      0.97        30\n",
      "\n"
     ]
    }
   ],
   "source": [
    "print(classification_report(y_test, preds))"
   ]
  }
 ],
 "metadata": {
  "kernelspec": {
   "display_name": "Python 3",
   "language": "python",
   "name": "python3"
  },
  "language_info": {
   "codemirror_mode": {
    "name": "ipython",
    "version": 3
   },
   "file_extension": ".py",
   "mimetype": "text/x-python",
   "name": "python",
   "nbconvert_exporter": "python",
   "pygments_lexer": "ipython3",
   "version": "3.11.3"
  }
 },
 "nbformat": 4,
 "nbformat_minor": 2
}
